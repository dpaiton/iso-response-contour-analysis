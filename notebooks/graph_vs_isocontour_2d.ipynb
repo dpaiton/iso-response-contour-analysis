{
 "cells": [
  {
   "cell_type": "code",
   "execution_count": null,
   "metadata": {},
   "outputs": [],
   "source": [
    "%load_ext autoreload\n",
    "%autoreload 2\n",
    "\n",
    "import os\n",
    "import sys\n",
    "\n",
    "import numpy as np\n",
    "import proplot as pplt\n",
    "from scipy.stats import ortho_group\n",
    "\n",
    "import torch\n",
    "import torch.nn as nn\n",
    "\n",
    "#DEVICE = 'cuda' if torch.cuda.is_available() else 'cpu'\n",
    "DEVICE = 'cpu'\n",
    "\n",
    "current_path = !pwd\n",
    "parent_path = os.path.dirname(current_path[0])\n",
    "if parent_path not in sys.path: sys.path.append(parent_path)\n",
    "\n",
    "import utils.model_handling as model_utils\n",
    "import utils.dataset_generation as iso_data\n",
    "import utils.histogram_analysis as hist_funcs\n",
    "import utils.principal_curvature as curve_utils\n",
    "import utils.plotting as plot_funcs"
   ]
  },
  {
   "cell_type": "code",
   "execution_count": null,
   "metadata": {},
   "outputs": [],
   "source": [
    "class QuadraticFunction(torch.nn.Module):\n",
    "    def __init__(self, diag=None, hess=None):\n",
    "        super().__init__()\n",
    "        \n",
    "        if hess is not None:\n",
    "            self.hessian = torch.tensor(hess).to(DEVICE)\n",
    "        else:\n",
    "            if diag is None:\n",
    "                diag = [1.0, 2.0]\n",
    "\n",
    "            #self.hessian = torch.tensor([[1.0, 0.0, 0.0], [0.0, 2.0, 0.0], [0.0, 0.0, 3.0]]).to(DEVICE)\n",
    "            self.hessian = torch.diag(torch.tensor(diag)).to(DEVICE)\n",
    "        \n",
    "        self.hessian = torch.nn.Parameter(self.hessian, requires_grad=False)\n",
    "    \n",
    "    def forward(self, x):\n",
    "        return torch.dot(x, torch.matmul(self.hessian, x))\n",
    "\n",
    "f = QuadraticFunction([1.0, 2.0]).to(DEVICE)"
   ]
  },
  {
   "cell_type": "code",
   "execution_count": null,
   "metadata": {},
   "outputs": [],
   "source": [
    "xs = torch.linspace(-3, 3, 50).to(DEVICE)\n",
    "ys = torch.linspace(-3, 3, 50).to(DEVICE)\n",
    "XS, YS = torch.meshgrid(xs, ys)\n",
    "XS_flat = XS.flatten()\n",
    "YS_flat = YS.flatten()\n",
    "data = torch.vstack((XS_flat, YS_flat))\n",
    "zs = torch.tensor([f(data[:, i]) for i in range(len(data.T))]).reshape(XS.shape)"
   ]
  },
  {
   "cell_type": "code",
   "execution_count": null,
   "metadata": {},
   "outputs": [],
   "source": [
    "fig, axs = pplt.subplots(nrows=1, ncols=1)\n",
    "axs.contourf(XS.cpu().numpy(), YS.cpu().numpy(), zs.cpu().numpy())"
   ]
  },
  {
   "cell_type": "code",
   "execution_count": null,
   "metadata": {},
   "outputs": [],
   "source": [
    "points = [\n",
    "    np.array([np.sqrt(1/2), np.sqrt(1/2)], dtype=np.float32),\n",
    "    [0.5, 1.0],\n",
    "    [1.0, 2.0],\n",
    "    [-0.5, -1.0], \n",
    "    [0.5, -1.0], \n",
    "    [0.0, -0.5],\n",
    "    [0.0, 0.5],\n",
    "    [0.0, 1.0],\n",
    "    [0.0, 2.0],\n",
    "]"
   ]
  },
  {
   "cell_type": "code",
   "execution_count": null,
   "metadata": {},
   "outputs": [],
   "source": [
    "def value_grad_hess(f, point):\n",
    "    value = f(point)\n",
    "    grad = torch.autograd.functional.jacobian(f, point)\n",
    "    hess = torch.autograd.functional.hessian(f, point)\n",
    "    return value, grad, hess"
   ]
  },
  {
   "cell_type": "markdown",
   "metadata": {},
   "source": [
    "# 2d function with 1d isosurface"
   ]
  },
  {
   "cell_type": "markdown",
   "metadata": {},
   "source": [
    "first let's test a symmetric quadratic. Observe that while the graph usually has a principal curvature direction that coincides with the decision boundary, it gives us wrong curvature for this direction"
   ]
  },
  {
   "cell_type": "code",
   "execution_count": null,
   "metadata": {},
   "outputs": [],
   "source": [
    "f = QuadraticFunction([1.0, 1.0]).to(DEVICE)\n",
    "\n",
    "xs = torch.linspace(-3, 3, 50).to(DEVICE)\n",
    "ys = torch.linspace(-3, 3, 50).to(DEVICE)\n",
    "XS, YS = torch.meshgrid(xs, ys)\n",
    "XS_flat = XS.flatten()\n",
    "YS_flat = YS.flatten()\n",
    "data = torch.vstack((XS_flat, YS_flat))\n",
    "zs = torch.tensor([f(data[:, i]) for i in range(len(data.T))]).reshape(XS.shape)\n",
    "\n",
    "fig, axs = pplt.subplots(nrows=len(points), ncols=2)\n",
    "\n",
    "def plot_curvature(ax, curvatures, directions):\n",
    "    for curvature, direction in zip(curvatures.detach().cpu().numpy(), directions.T.detach().cpu().numpy()):\n",
    "        ax.arrow(np_point[0], np_point[1], direction[0], direction[1], width=0.05)\n",
    "        #ax.text(np_point[0] + 0.5 * direction[0], np_point[1] + 0.5 * direction[1], f'{curvature:.02f}')\n",
    "        ax.text(np_point[0] + 1.0 * direction[0], np_point[1] + 1.0 * direction[1], f'({direction[0]:.02f}, {direction[1]:.02f}): {curvature:.03f}')\n",
    "\n",
    "for point_index, np_point in enumerate(points):\n",
    "    \n",
    "    point = torch.tensor(np_point, device=DEVICE)\n",
    "    value, pt_grad, pt_hess = value_grad_hess(f, point)\n",
    "    \n",
    "    for ax in axs[point_index, :]:\n",
    "        ax.contourf(XS.cpu().numpy(), YS.cpu().numpy(), zs.cpu().numpy())\n",
    "        ax.contour(XS.cpu().numpy(), YS.cpu().numpy(), zs.cpu().numpy(), levels=[value.detach().cpu().numpy()], color='black')\n",
    "        ax.scatter([np_point[0]], [np_point[1]])\n",
    "        ax.set_title(f'point: ({np_point[0]}, {np_point[1]})')\n",
    "\n",
    "    \n",
    "    # isoresponse\n",
    "    iso_shape_operator, iso_curvatures, iso_directions = curve_utils.local_response_curvature_isoresponse_surface(pt_grad, pt_hess)\n",
    "    graph_shape_operator, graph_curvatures, graph_directions = curve_utils.local_response_curvature_graph(pt_grad, pt_hess)\n",
    "    plot_curvature(axs[point_index, 0], iso_curvatures, iso_directions)\n",
    "    plot_curvature(axs[point_index, 1], graph_curvatures, graph_directions)"
   ]
  },
  {
   "cell_type": "markdown",
   "metadata": {},
   "source": [
    "Now let's go for something more assymmetric. Observe that the principal directions for the graph are not longer orthogonal in the parameter space! Also, the graph often doesn't even have a principal direction that aligns with the isosurface."
   ]
  },
  {
   "cell_type": "code",
   "execution_count": null,
   "metadata": {},
   "outputs": [],
   "source": [
    "#f = QuadraticFunction([1.0, 2.0]).to(DEVICE)\n",
    "f = QuadraticFunction(hess=[[1.0, 0.5], [0.5, 2.0]]).to(DEVICE)\n",
    "\n",
    "xs = torch.linspace(-3, 3, 50).to(DEVICE)\n",
    "ys = torch.linspace(-3, 3, 50).to(DEVICE)\n",
    "XS, YS = torch.meshgrid(xs, ys)\n",
    "XS_flat = XS.flatten()\n",
    "YS_flat = YS.flatten()\n",
    "data = torch.vstack((XS_flat, YS_flat))\n",
    "zs = torch.tensor([f(data[:, i]) for i in range(len(data.T))]).reshape(XS.shape)\n",
    "\n",
    "fig, axs = pplt.subplots(nrows=len(points), ncols=2)\n",
    "\n",
    "def plot_curvature(ax, curvatures, directions):\n",
    "    for curvature, direction in zip(curvatures.detach().cpu().numpy(), directions.T.detach().cpu().numpy()):\n",
    "        ax.arrow(np_point[0], np_point[1], direction[0], direction[1], width=0.05)\n",
    "        #ax.text(np_point[0] + 0.5 * direction[0], np_point[1] + 0.5 * direction[1], f'{curvature:.02f}')\n",
    "        ax.text(np_point[0] + 1.0 * direction[0], np_point[1] + 1.0 * direction[1], f'({direction[0]:.02f}, {direction[1]:.02f}): {curvature:.03f}')\n",
    "\n",
    "for point_index, np_point in enumerate(points):\n",
    "    \n",
    "    point = torch.tensor(np_point, device=DEVICE)\n",
    "    value, pt_grad, pt_hess = value_grad_hess(f, point)\n",
    "    \n",
    "    for ax in axs[point_index, :]:\n",
    "        ax.contourf(XS.cpu().numpy(), YS.cpu().numpy(), zs.cpu().numpy())\n",
    "        ax.contour(XS.cpu().numpy(), YS.cpu().numpy(), zs.cpu().numpy(), levels=[value.detach().cpu().numpy()], color='black')\n",
    "        ax.scatter([np_point[0]], [np_point[1]])\n",
    "        ax.set_title(f'point: ({np_point[0]}, {np_point[1]})')\n",
    "\n",
    "    \n",
    "    # isoresponse\n",
    "    iso_shape_operator, iso_curvatures, iso_directions = curve_utils.local_response_curvature_isoresponse_surface(pt_grad, pt_hess)\n",
    "    graph_shape_operator, graph_curvatures, graph_directions = curve_utils.local_response_curvature_graph(pt_grad, pt_hess)\n",
    "    plot_curvature(axs[point_index, 0], iso_curvatures, iso_directions)\n",
    "    plot_curvature(axs[point_index, 1], graph_curvatures, graph_directions)"
   ]
  },
  {
   "cell_type": "code",
   "execution_count": null,
   "metadata": {},
   "outputs": [],
   "source": []
  },
  {
   "cell_type": "code",
   "execution_count": null,
   "metadata": {},
   "outputs": [],
   "source": []
  },
  {
   "cell_type": "code",
   "execution_count": null,
   "metadata": {},
   "outputs": [],
   "source": []
  },
  {
   "cell_type": "markdown",
   "metadata": {},
   "source": [
    "Let's also try a linear function"
   ]
  },
  {
   "cell_type": "code",
   "execution_count": null,
   "metadata": {},
   "outputs": [],
   "source": [
    "f = lambda x: torch.sum(x)\n",
    "\n",
    "xs = torch.linspace(-3, 3, 50).to(DEVICE)\n",
    "ys = torch.linspace(-3, 3, 50).to(DEVICE)\n",
    "XS, YS = torch.meshgrid(xs, ys)\n",
    "XS_flat = XS.flatten()\n",
    "YS_flat = YS.flatten()\n",
    "data = torch.vstack((XS_flat, YS_flat))\n",
    "zs = torch.tensor([f(data[:, i]) for i in range(len(data.T))]).reshape(XS.shape)\n",
    "\n",
    "fig, axs = pplt.subplots(nrows=len(points), ncols=2)\n",
    "\n",
    "def plot_curvature(ax, curvatures, directions):\n",
    "    for curvature, direction in zip(curvatures.detach().cpu().numpy(), directions.T.detach().cpu().numpy()):\n",
    "        ax.arrow(np_point[0], np_point[1], direction[0], direction[1], width=0.05)\n",
    "        #ax.text(np_point[0] + 0.5 * direction[0], np_point[1] + 0.5 * direction[1], f'{curvature:.02f}')\n",
    "        ax.text(np_point[0] + 1.0 * direction[0], np_point[1] + 1.0 * direction[1], f'({direction[0]:.02f}, {direction[1]:.02f}): {curvature:.03f}')\n",
    "\n",
    "for point_index, np_point in enumerate(points):\n",
    "    \n",
    "    point = torch.tensor(np_point, device=DEVICE)\n",
    "    value, pt_grad, pt_hess = value_grad_hess(f, point)\n",
    "    \n",
    "    for ax in axs[point_index, :]:\n",
    "        ax.contourf(XS.cpu().numpy(), YS.cpu().numpy(), zs.cpu().numpy())\n",
    "        ax.contour(XS.cpu().numpy(), YS.cpu().numpy(), zs.cpu().numpy(), levels=[value.detach().cpu().numpy()], color='black')\n",
    "        ax.scatter([np_point[0]], [np_point[1]])\n",
    "        ax.set_title(f'point: ({np_point[0]}, {np_point[1]})')\n",
    "\n",
    "    \n",
    "    # isoresponse\n",
    "    iso_shape_operator, iso_curvatures, iso_directions = curve_utils.local_response_curvature_isoresponse_surface(pt_grad, pt_hess)\n",
    "    graph_shape_operator, graph_curvatures, graph_directions = curve_utils.local_response_curvature_graph(pt_grad, pt_hess)\n",
    "    plot_curvature(axs[point_index, 0], iso_curvatures, iso_directions)\n",
    "    plot_curvature(axs[point_index, 1], graph_curvatures, graph_directions)"
   ]
  },
  {
   "cell_type": "code",
   "execution_count": null,
   "metadata": {},
   "outputs": [],
   "source": [
    "points = [\n",
    "    [0.5, 1.0],\n",
    "    [1.0, 2.0],\n",
    "    [-1.0, 2.0],\n",
    "    [0.0, 0.0],\n",
    "    #[0.0, -0.5],\n",
    "    #[0.0, 0.5],\n",
    "    #[0.0, 1.0],\n",
    "    #[0.0, 2.0],\n",
    "]\n",
    "\n",
    "# torch.prod returns wrong hessian at (0, 0)\n",
    "f = lambda x: x[0]*x[1]\n",
    "\n",
    "xs = torch.linspace(-3, 3, 50).to(DEVICE)\n",
    "ys = torch.linspace(-3, 3, 50).to(DEVICE)\n",
    "XS, YS = torch.meshgrid(xs, ys)\n",
    "XS_flat = XS.flatten()\n",
    "YS_flat = YS.flatten()\n",
    "data = torch.vstack((XS_flat, YS_flat))\n",
    "zs = torch.tensor([f(data[:, i]) for i in range(len(data.T))]).reshape(XS.shape)\n",
    "\n",
    "fig, axs = pplt.subplots(nrows=len(points), ncols=2)\n",
    "\n",
    "def plot_curvature(ax, curvatures, directions):\n",
    "    for curvature, direction in zip(curvatures.detach().cpu().numpy(), directions.T.detach().cpu().numpy()):\n",
    "        ax.arrow(np_point[0], np_point[1], direction[0], direction[1], width=0.05)\n",
    "        #ax.text(np_point[0] + 0.5 * direction[0], np_point[1] + 0.5 * direction[1], f'{curvature:.02f}')\n",
    "        ax.text(np_point[0] + 1.0 * direction[0], np_point[1] + 1.0 * direction[1], f'({direction[0]:.02f}, {direction[1]:.02f}): {curvature:.03f}')\n",
    "\n",
    "for point_index, np_point in enumerate(points):\n",
    "    print(point)\n",
    "    point = torch.tensor(np_point, device=DEVICE)\n",
    "    value, pt_grad, pt_hess = value_grad_hess(f, point)\n",
    "    print(pt_hess)\n",
    "    \n",
    "    for ax in axs[point_index, :]:\n",
    "        ax.contourf(XS.cpu().numpy(), YS.cpu().numpy(), zs.cpu().numpy())\n",
    "        ax.contour(XS.cpu().numpy(), YS.cpu().numpy(), zs.cpu().numpy(), levels=[value.detach().cpu().numpy()], color='black')\n",
    "        ax.scatter([np_point[0]], [np_point[1]])\n",
    "        ax.set_title(f'point: ({np_point[0]}, {np_point[1]})')\n",
    "\n",
    "    \n",
    "    # isoresponse\n",
    "    graph_shape_operator, graph_curvatures, graph_directions = curve_utils.local_response_curvature_graph(pt_grad, pt_hess)\n",
    "    if point[0] != 0:\n",
    "    #if True:\n",
    "        iso_shape_operator, iso_curvatures, iso_directions = curve_utils.local_response_curvature_isoresponse_surface(pt_grad, pt_hess)\n",
    "        plot_curvature(axs[point_index, 0], iso_curvatures, iso_directions)\n",
    "    plot_curvature(axs[point_index, 1], graph_curvatures, graph_directions)"
   ]
  },
  {
   "cell_type": "code",
   "execution_count": null,
   "metadata": {},
   "outputs": [],
   "source": [
    "f = QuadraticFunction([2.0, 2.0]).to(DEVICE)\n",
    "point = torch.tensor([0.0, 1.0]).to(DEVICE)\n",
    "value, pt_grad, pt_hess = value_grad_hess(f, point)\n",
    "    \n",
    "# isoresponse\n",
    "iso_shape_operator, iso_curvatures, iso_directions = curve_utils.local_response_curvature_isoresponse_surface(pt_grad, pt_hess)\n",
    "graph_shape_operator, graph_curvatures, graph_directions = curve_utils.local_response_curvature_graph(pt_grad, pt_hess)\n",
    "\n",
    "print(\"ISO SHAPE\", iso_shape_operator)\n",
    "print(\"ISO curv\", iso_curvatures)\n",
    "print(\"ISO dir\", iso_directions)\n",
    "\n",
    "print(\"graph SHAPE\", graph_shape_operator)\n",
    "print(\"graph curv\", graph_curvatures)\n",
    "print(\"graph dir\", graph_directions)"
   ]
  },
  {
   "cell_type": "markdown",
   "metadata": {},
   "source": [
    "## 3d, i.e. function 3d->1d resulting in 2d isosurface\n",
    "\n",
    "First let's check that we get correct curvatures for a sphere"
   ]
  },
  {
   "cell_type": "code",
   "execution_count": null,
   "metadata": {},
   "outputs": [],
   "source": [
    "f_3d = QuadraticFunction([1.0, 1.0, 1.0]).to(DEVICE)\n",
    "\n",
    "point = torch.tensor([0, 0, 2.0]).to(DEVICE)\n",
    "value, pt_grad, pt_hess = value_grad_hess(f_3d, point)\n",
    "\n",
    "print(\"eval point:\", point)\n",
    "print(\"eval value:\", value)\n",
    "print(\"eval grad:\", pt_grad)\n",
    "print()\n",
    "\n",
    "# isoresponse\n",
    "iso_shape_operator, iso_curvatures, iso_directions = curve_utils.local_response_curvature_isoresponse_surface(pt_grad, pt_hess)\n",
    "graph_shape_operator, graph_curvatures, graph_directions = curve_utils.local_response_curvature_graph(pt_grad, pt_hess)\n",
    "\n",
    "print(\"ISO SHAPE\", iso_shape_operator)\n",
    "print(\"ISO curv\", iso_curvatures)\n",
    "print(\"ISO dir\", iso_directions)\n",
    "print()\n",
    "\n",
    "print(\"ISO Gauss\", torch.prod(iso_curvatures))\n",
    "print(\"Gauss target\", 1/point[-1]**2)\n",
    "\n",
    "print(\"ratio\", torch.prod(iso_curvatures)*point[-1]**2)\n",
    "\n",
    "print()\n",
    "\n",
    "print(\"graph SHAPE\", graph_shape_operator)\n",
    "print(\"graph curv\", graph_curvatures)\n",
    "print(\"graph dir\", graph_directions)"
   ]
  },
  {
   "cell_type": "markdown",
   "metadata": {},
   "source": [
    "Now with projection to subspace"
   ]
  },
  {
   "cell_type": "code",
   "execution_count": null,
   "metadata": {},
   "outputs": [],
   "source": [
    "f_3d = QuadraticFunction([1.0, 1.0, 1.0]).to(DEVICE)\n",
    "#projection_subspace_of_interest = None\n",
    "projection_subspace_of_interest = torch.tensor([\n",
    "    #[2, 0, 2.0],\n",
    "    [2, 1, 0.0],\n",
    "]).to(DEVICE)\n",
    "\n",
    "point = torch.tensor([0, 2, 2.0]).to(DEVICE)\n",
    "value, pt_grad, pt_hess = value_grad_hess(f_3d, point)\n",
    "\n",
    "print(\"eval point:\", point)\n",
    "print(\"eval value:\", value)\n",
    "print(\"eval grad:\", pt_grad)\n",
    "print()\n",
    "\n",
    "# isoresponse\n",
    "iso_shape_operator, iso_curvatures, iso_directions = curve_utils.local_response_curvature_isoresponse_surface(\n",
    "    pt_grad, pt_hess,\n",
    "    projection_subspace_of_interest=projection_subspace_of_interest\n",
    ")\n",
    "graph_shape_operator, graph_curvatures, graph_directions = curve_utils.local_response_curvature_graph(pt_grad, pt_hess)\n",
    "\n",
    "print(\"ISO SHAPE\", iso_shape_operator)\n",
    "print(\"ISO curv\", iso_curvatures)\n",
    "print(\"ISO dir\", iso_directions)\n",
    "print()\n",
    "\n",
    "print(\"ISO Gauss\", torch.prod(iso_curvatures))\n",
    "print(\"Gauss target\", 1/point[-1]**2)\n",
    "\n",
    "print(\"ratio\", torch.prod(iso_curvatures)*point[-1]**2)\n",
    "\n",
    "print()\n",
    "\n",
    "print(\"graph SHAPE\", graph_shape_operator)\n",
    "print(\"graph curv\", graph_curvatures)\n",
    "print(\"graph dir\", graph_directions)"
   ]
  },
  {
   "cell_type": "code",
   "execution_count": null,
   "metadata": {},
   "outputs": [],
   "source": [
    "f_3d = QuadraticFunction([1.0, 1.0, 1.0]).to(DEVICE)\n",
    "projection_subspace_of_interest = torch.tensor([\n",
    "    [2, 2, 1.0],\n",
    "    [2, 0, 0.0],\n",
    "]).to(DEVICE)\n",
    "\n",
    "point = torch.tensor([0, 2, 2.0]).to(DEVICE)\n",
    "value, pt_grad, pt_hess = value_grad_hess(f_3d, point)\n",
    "\n",
    "print(\"eval point:\", point)\n",
    "print(\"eval value:\", value)\n",
    "print(\"eval grad:\", pt_grad)\n",
    "print()\n",
    "\n",
    "# isoresponse\n",
    "iso_shape_operator, iso_curvatures, iso_directions = curve_utils.local_response_curvature_isoresponse_surface(\n",
    "    pt_grad, pt_hess,\n",
    "    projection_subspace_of_interest=projection_subspace_of_interest\n",
    ")\n",
    "graph_shape_operator, graph_curvatures, graph_directions = curve_utils.local_response_curvature_graph(pt_grad, pt_hess)\n",
    "\n",
    "print(\"ISO SHAPE\", iso_shape_operator)\n",
    "print(\"ISO curv\", iso_curvatures)\n",
    "print(\"ISO dir\", iso_directions)\n",
    "print()\n",
    "\n",
    "print(\"ISO Gauss\", torch.prod(iso_curvatures))\n",
    "print(\"Gauss target\", 1/point[-1]**2)\n",
    "\n",
    "print(\"ratio\", torch.prod(iso_curvatures)*point[-1]**2)\n",
    "\n",
    "print()\n",
    "\n",
    "print(\"graph SHAPE\", graph_shape_operator)\n",
    "print(\"graph curv\", graph_curvatures)\n",
    "print(\"graph dir\", graph_directions)"
   ]
  },
  {
   "cell_type": "markdown",
   "metadata": {},
   "source": [
    "And something more assymmetric"
   ]
  },
  {
   "cell_type": "code",
   "execution_count": null,
   "metadata": {},
   "outputs": [],
   "source": [
    "f_3d = QuadraticFunction([1.0, 0.0, 3.0]).to(DEVICE)\n",
    "\n",
    "point = torch.tensor([-3.0, 2.0, -1.0]).to(DEVICE)\n",
    "value, pt_grad, pt_hess = value_grad_hess(f_3d, point)\n",
    "\n",
    "print(\"eval point:\", point)\n",
    "print(\"eval value:\", value)\n",
    "print(\"eval grad:\", pt_grad)\n",
    "print()\n",
    "\n",
    "# isoresponse\n",
    "iso_shape_operator, iso_curvatures, iso_directions = curve_utils.local_response_curvature_isoresponse_surface(pt_grad, pt_hess)\n",
    "graph_shape_operator, graph_curvatures, graph_directions = curve_utils.local_response_curvature_graph(pt_grad, pt_hess)\n",
    "\n",
    "print(\"ISO SHAPE\", iso_shape_operator)\n",
    "print(\"ISO curv\", iso_curvatures)\n",
    "print(\"ISO dir\", iso_directions)\n",
    "print()\n",
    "\n",
    "\n",
    "print(\"graph SHAPE\", graph_shape_operator)\n",
    "print(\"graph curv\", graph_curvatures)\n",
    "print(\"graph dir\", graph_directions)"
   ]
  },
  {
   "cell_type": "code",
   "execution_count": null,
   "metadata": {},
   "outputs": [],
   "source": [
    "%matplotlib widget"
   ]
  },
  {
   "cell_type": "code",
   "execution_count": null,
   "metadata": {},
   "outputs": [],
   "source": [
    "from mpl_toolkits.mplot3d import axes3d\n",
    "import matplotlib.pyplot as plt\n",
    "import numpy as np\n",
    "from matplotlib.patches import FancyArrowPatch\n",
    "from mpl_toolkits.mplot3d.proj3d import proj_transform\n",
    "from mpl_toolkits.mplot3d.axes3d import Axes3D\n",
    "\n",
    "# https://gist.github.com/WetHat/1d6cd0f7309535311a539b42cccca89c\n",
    "class Arrow3D(FancyArrowPatch):\n",
    "\n",
    "    def __init__(self, x, y, z, dx, dy, dz, *args, **kwargs):\n",
    "        super().__init__((0, 0), (0, 0), *args, **kwargs)\n",
    "        self._xyz = (x, y, z)\n",
    "        self._dxdydz = (dx, dy, dz)\n",
    "\n",
    "    def draw(self, renderer):\n",
    "        x1, y1, z1 = self._xyz\n",
    "        dx, dy, dz = self._dxdydz\n",
    "        x2, y2, z2 = (x1 + dx, y1 + dy, z1 + dz)\n",
    "\n",
    "        xs, ys, zs = proj_transform((x1, x2), (y1, y2), (z1, z2), self.axes.M)\n",
    "        self.set_positions((xs[0], ys[0]), (xs[1], ys[1]))\n",
    "        super().draw(renderer)\n",
    "        \n",
    "        \n",
    "def _arrow3D(ax, x, y, z, dx, dy, dz, *args, **kwargs):\n",
    "    '''Add an 3d arrow to an `Axes3D` instance.'''\n",
    "\n",
    "    arrow = Arrow3D(x, y, z, dx, dy, dz, *args, **kwargs)\n",
    "    ax.add_artist(arrow)\n",
    "\n",
    "\n",
    "setattr(Axes3D, 'arrow3D', _arrow3D)\n",
    "\n",
    "\n",
    "def plot_implicit(fn, ax, value=0, bbox=(-2.0, 2.0)):\n",
    "    ''' create a plot of an implicit function\n",
    "    fn  ...implicit function (plot where fn==value)\n",
    "    bbox ..the x,y,and z limits of plotted interval'''\n",
    "    xmin, xmax, ymin, ymax, zmin, zmax = bbox*3\n",
    "    A = np.linspace(xmin, xmax, 100) # resolution of the contour\n",
    "    B = np.linspace(xmin, xmax, 15) # number of slices\n",
    "    A1,A2 = np.meshgrid(A,A) # grid on which the contour is plotted\n",
    "\n",
    "    for z in B: # plot contours in the XY plane\n",
    "        X,Y = A1,A2\n",
    "        Z = fn(X,Y,z) - value\n",
    "        cset = ax.contour(X, Y, Z+z, [z], zdir='z', zorder=0)\n",
    "        # [z] defines the only level to plot for this contour for this value of z\n",
    "\n",
    "    for y in B: # plot contours in the XZ plane\n",
    "        X,Z = A1,A2\n",
    "        Y = fn(X,y,Z) - value\n",
    "        cset = ax.contour(X, Y+y, Z, [y], zdir='y', zorder=0)\n",
    "\n",
    "    for x in B: # plot contours in the YZ plane\n",
    "        Y,Z = A1,A2\n",
    "        X = fn(x,Y,Z) - value\n",
    "        cset = ax.contour(X+x, Y, Z, [x], zdir='x', zorder=0)\n",
    "\n",
    "    # must set plot limits because the contour will likely extend\n",
    "    # way beyond the displayed level.  Otherwise matplotlib extends the plot limits\n",
    "    # to encompass all values in the contour.\n",
    "    ax.set_zlim3d(zmin,zmax)\n",
    "    ax.set_xlim3d(xmin,xmax)\n",
    "    ax.set_ylim3d(ymin,ymax)\n",
    "\n",
    "def plot_manifold(f, point, ax):\n",
    "\n",
    "    value = f(point)\n",
    "    \n",
    "    def fn(x, y, z):\n",
    "        for data in x, y, z:\n",
    "            if data.ndim != 0:\n",
    "                shape = data.shape\n",
    "        if x.ndim == 0:\n",
    "            x = np.ones_like(y) * x\n",
    "        if y.ndim == 0:\n",
    "            y = np.ones_like(x) * y\n",
    "        if z.ndim == 0:\n",
    "            z = np.ones_like(x) * z\n",
    "\n",
    "        out = [f(torch.tensor([_x, _y, _z], dtype=torch.float).to(DEVICE)).detach().cpu().numpy() for _x, _y, _z in zip(x.flatten(), y.flatten(), z.flatten())]\n",
    "        return np.reshape(out, x.shape)\n",
    "\n",
    "    np_point = point.detach().cpu().numpy()\n",
    "    plot_implicit(fn, ax, value=value_orig.detach().cpu().numpy())\n",
    "    ax.scatter([np_point[0]], [np_point[1]], [np_point[2]], s=50, color='red', zorder=1000)\n",
    "    \n",
    "    value, pt_grad, pt_hess = value_grad_hess(f, point)\n",
    "    print(pt_grad)\n",
    "    iso_shape_operator, iso_curvatures, iso_directions = curve_utils.local_response_curvature_isoresponse_surface(pt_grad, pt_hess)\n",
    "    \n",
    "    \n",
    "    def plot_curvature(ax, curvatures, directions):\n",
    "        for curvature, direction in zip(curvatures.detach().cpu().numpy(), directions.T.detach().cpu().numpy()):\n",
    "            ax.arrow3D(np_point[0], np_point[1], np_point[2], direction[0], direction[1], direction[2],\n",
    "                       #width=0.05\n",
    "                       mutation_scale=10,\n",
    "                       zorder=10,\n",
    "                      )\n",
    "            #ax.text(np_point[0] + 0.5 * direction[0], np_point[1] + 0.5 * direction[1], f'{curvature:.02f}')\n",
    "            #ax.text(np_point[0] + 1.0 * direction[0], np_point[1] + 1.0 * direction[1], f'({direction[0]:.02f}, {direction[1]:.02f}): {curvature:.03f}')\n",
    "    \n",
    "    plot_curvature(ax, iso_curvatures, iso_directions)"
   ]
  },
  {
   "cell_type": "code",
   "execution_count": null,
   "metadata": {},
   "outputs": [],
   "source": [
    "# with manual coordinate transform"
   ]
  },
  {
   "cell_type": "code",
   "execution_count": null,
   "metadata": {},
   "outputs": [],
   "source": [
    "%matplotlib inline"
   ]
  },
  {
   "cell_type": "code",
   "execution_count": null,
   "metadata": {},
   "outputs": [],
   "source": [
    "f_3d = QuadraticFunction([3.0, 3.0, 1.0]).to(DEVICE)\n",
    "point = torch.tensor([1.0, 1.0, 0.00001]).to(DEVICE)\n",
    "\n",
    "\n",
    "# M = np.array([[ 0.41133789, -0.8123282 ,  0.4134296 ],\n",
    "#       [-0.18372984,  0.37037412,  0.91053081],\n",
    "#       [-0.89277348, -0.45049517,  0.00309998]])\n",
    "# coordinate_transformation = torch.tensor(M).to(DEVICE)\n",
    "# point = torch.matmul(coordinate_transformation.T.type(point.dtype), point).detach().clone()\n",
    "\n",
    "# first in original coordinates\n",
    "value_orig, pt_grad_orig, pt_hess_orig = value_grad_hess(f_3d, point)\n",
    "print(value_orig)\n",
    "iso_shape_operator_orig, iso_curvatures_orig, iso_directions_orig = curve_utils.local_response_curvature_isoresponse_surface(pt_grad_orig, pt_hess_orig)\n",
    "\n",
    "\n",
    "# Now let's do coordinate transform\n",
    "# 46\n",
    "# 56\n",
    "# 58\n",
    "#rst = np.random.RandomState(seed=58)\n",
    "rst = None\n",
    "M = ortho_group.rvs(len(point), random_state=rst)\n",
    "# from old coordinates to new coordinates\n",
    "#M = np.array([[ 0.41133789, -0.8123282 ,  0.4134296 ],\n",
    "#       [-0.18372984,  0.37037412,  0.91053081],\n",
    "#       [-0.89277348, -0.45049517,  0.00309998]])\n",
    "coordinate_transformation = torch.tensor(M).to(DEVICE)\n",
    "\n",
    "def new_f(x):\n",
    "    return f_3d(torch.matmul(coordinate_transformation.T.type(x.dtype), x))\n",
    "new_point = torch.matmul(coordinate_transformation.type(point.dtype), point).detach().clone()\n",
    "\n",
    "value_new, pt_grad_new, pt_hess_new = value_grad_hess(new_f, new_point)\n",
    "print(value_new)\n",
    "    \n",
    "iso_shape_operator_new, iso_curvatures_new, iso_directions_new = curve_utils.local_response_curvature_isoresponse_surface(pt_grad_new, pt_hess_new)\n",
    "\n",
    "print(\"curvature orig\", iso_curvatures_orig)\n",
    "print(\"curvature new\", iso_curvatures_new)\n",
    "\n",
    "print(\"gauss curvature orig\", torch.prod(iso_curvatures_orig))\n",
    "print(\"gauss curvature new\", torch.prod(iso_curvatures_new))\n",
    "\n",
    "# fig = plt.figure()\n",
    "# ax1 = fig.add_subplot(121, projection='3d')\n",
    "# ax2 = fig.add_subplot(122, projection='3d')\n",
    "# plot_manifold(f_3d, point, ax1)\n",
    "# plot_manifold(new_f, new_point, ax2)\n",
    "\n",
    "# #ax1.view_init(elev=70., azim=270)\n",
    "# #ax2.view_init(elev=-40., azim=0)\n",
    "\n",
    "# ax1.view_init(elev=90., azim=270)\n",
    "# ax2.view_init(elev=90., azim=0)"
   ]
  },
  {
   "cell_type": "code",
   "execution_count": null,
   "metadata": {},
   "outputs": [],
   "source": [
    "from scipy.linalg import null_space"
   ]
  },
  {
   "cell_type": "code",
   "execution_count": null,
   "metadata": {},
   "outputs": [],
   "source": [
    "null_space(pt_grad_orig.cpu().numpy()[np.newaxis, :])"
   ]
  },
  {
   "cell_type": "code",
   "execution_count": null,
   "metadata": {},
   "outputs": [],
   "source": [
    "null_space()"
   ]
  },
  {
   "cell_type": "code",
   "execution_count": null,
   "metadata": {},
   "outputs": [],
   "source": [
    "pt_grad_orig"
   ]
  },
  {
   "cell_type": "code",
   "execution_count": null,
   "metadata": {},
   "outputs": [],
   "source": [
    "pt_grad_new"
   ]
  },
  {
   "cell_type": "code",
   "execution_count": null,
   "metadata": {},
   "outputs": [],
   "source": [
    "pt_grad_a = torch.tensor([[ 5.2957],\n",
    "        [-2.4524]], dtype=torch.float64)\n",
    "pt_grad_b = torch.tensor([[1.3933]], dtype=torch.float64)\n",
    "pt_hess_aa = torch.tensor([[ 5.5909, -1.1310],\n",
    "        [-1.1310,  2.8733]], dtype=torch.float64)\n",
    "pt_hess_ab = torch.tensor([[-0.4358],\n",
    "        [-1.2047]], dtype=torch.float64)\n",
    "pt_hess_bb = torch.tensor([[5.5358]], dtype=torch.float64)\n",
    "\n",
    "grad_g = -pt_grad_a / pt_grad_b\n",
    "\n",
    "np_pt_grad_a = pt_grad_a.cpu().numpy().astype(np.float128)\n",
    "np_pt_grad_b = pt_grad_b.cpu().numpy().astype(np.float128)\n",
    "np_pt_hess_aa = pt_hess_aa.cpu().numpy().astype(np.float128)\n",
    "np_pt_hess_ab = pt_hess_ab.cpu().numpy().astype(np.float128)\n",
    "np_pt_hess_bb = pt_hess_bb.cpu().numpy().astype(np.float128)\n",
    "\n",
    "np_grad_g = -np_pt_grad_a / np_pt_grad_b"
   ]
  },
  {
   "cell_type": "code",
   "execution_count": null,
   "metadata": {},
   "outputs": [],
   "source": [
    "grad_g, np_grad_g"
   ]
  },
  {
   "cell_type": "code",
   "execution_count": null,
   "metadata": {},
   "outputs": [],
   "source": [
    "(-1 / pt_grad_b) * (\n",
    "    torch.diag(pt_hess_ab.reshape(-1)) * (grad_g + grad_g.T)\n",
    "    +\n",
    "    pt_hess_bb * grad_g * grad_g.T\n",
    "    +\n",
    "    pt_hess_aa\n",
    ")"
   ]
  },
  {
   "cell_type": "code",
   "execution_count": null,
   "metadata": {},
   "outputs": [],
   "source": [
    "(-1 / np_pt_grad_b) * (\n",
    "    np.diag(np_pt_hess_ab.reshape(-1)) * (np_grad_g + np_grad_g.T)\n",
    "    +\n",
    "    np_pt_hess_bb * np_grad_g * np_grad_g.T\n",
    "    +\n",
    "    np_pt_hess_aa\n",
    ")"
   ]
  },
  {
   "cell_type": "code",
   "execution_count": null,
   "metadata": {},
   "outputs": [],
   "source": [
    "np.diag(np_pt_hess_ab.flatten()) * (np_grad_g + np_grad_g.T)"
   ]
  },
  {
   "cell_type": "code",
   "execution_count": null,
   "metadata": {},
   "outputs": [],
   "source": [
    "(-1 / np_pt_grad_b) * (\n",
    "    #np.diag(np_pt_hess_ab.flatten()) * (np_grad_g + np_grad_g.T)\n",
    "    np_pt_hess_ab.T * (np_grad_g + np_grad_g.T)\n",
    "    +\n",
    "    np_pt_hess_bb * np_grad_g * np_grad_g.T\n",
    "    +\n",
    "    np_pt_hess_aa\n",
    ")"
   ]
  },
  {
   "cell_type": "code",
   "execution_count": null,
   "metadata": {},
   "outputs": [],
   "source": [
    "(\n",
    "    (-1 / pt_grad_b) * (\n",
    "        #pt_hess_aa + \n",
    "        - 1 / pt_grad_b * pt_grad_a * (\n",
    "            pt_hess_ab.T +\n",
    "            pt_hess_bb * grad_g.T\n",
    "        ) +\n",
    "        pt_hess_ab.T * grad_g.T\n",
    "        #1 / pt_grad_b * pt_grad_a * (\n",
    "        #    pt_hess_ab.T +\n",
    "        #    pt_hess_bb * grad_g.T\n",
    "        #)\n",
    "        + pt_hess_aa\n",
    "    )\n",
    ")"
   ]
  },
  {
   "cell_type": "code",
   "execution_count": null,
   "metadata": {},
   "outputs": [],
   "source": [
    "(\n",
    "    (-1 / pt_grad_b) * (\n",
    "        pt_hess_aa + \n",
    "        pt_hess_ab.T * grad_g.T\n",
    "    ) +\n",
    "    (1 / pt_grad_b ** 2) * pt_grad_a * (\n",
    "        pt_hess_ab.T +\n",
    "        pt_hess_bb * grad_g.T\n",
    "    )\n",
    ")"
   ]
  },
  {
   "cell_type": "code",
   "execution_count": null,
   "metadata": {},
   "outputs": [],
   "source": [
    "h = (\n",
    "    (-1 / np_pt_grad_b) * (\n",
    "        np_pt_hess_aa + \n",
    "        np_pt_hess_ab.T * np_grad_g.T\n",
    "    ) +\n",
    "    (1 / np_pt_grad_b ** 2) * np_pt_grad_a * (\n",
    "        np_pt_hess_ab.T +\n",
    "        np_pt_hess_bb * np_grad_g.T\n",
    "    )\n",
    ")\n",
    "h"
   ]
  },
  {
   "cell_type": "code",
   "execution_count": null,
   "metadata": {},
   "outputs": [],
   "source": [
    "grad_g"
   ]
  },
  {
   "cell_type": "code",
   "execution_count": null,
   "metadata": {},
   "outputs": [],
   "source": [
    "pt_hess_ab.T"
   ]
  },
  {
   "cell_type": "code",
   "execution_count": null,
   "metadata": {},
   "outputs": [],
   "source": [
    "pt_hess_bb * grad_g.T"
   ]
  },
  {
   "cell_type": "code",
   "execution_count": null,
   "metadata": {},
   "outputs": [],
   "source": [
    "(1 / pt_grad_b ** 2) * pt_grad_a * (\n",
    "         pt_hess_ab.T +\n",
    "         pt_hess_bb * grad_g.T\n",
    "         #pt_hess_bb * (-pt_grad_a / pt_grad_b).T#* grad_g.T\n",
    ")"
   ]
  },
  {
   "cell_type": "code",
   "execution_count": null,
   "metadata": {},
   "outputs": [],
   "source": [
    "torch.tensor([[1.3933]], dtype=torch.float64)**2"
   ]
  },
  {
   "cell_type": "code",
   "execution_count": null,
   "metadata": {},
   "outputs": [],
   "source": [
    "# full formula\n",
    "hess_g\n",
    "tensor([[-63.7809,  25.6250],\n",
    "        [ 26.7512, -11.3266]], device='cuda:0', dtype=torch.float64)"
   ]
  },
  {
   "cell_type": "code",
   "execution_count": null,
   "metadata": {},
   "outputs": [],
   "source": [
    "ax1.view_init(elev=90., azim=270)\n",
    "ax2.view_init(elev=90., azim=0)\n",
    "plt.show()"
   ]
  },
  {
   "cell_type": "code",
   "execution_count": null,
   "metadata": {},
   "outputs": [],
   "source": [
    "def f(x):\n",
    "    #return x[0]*x[1]\n",
    "    return torch.prod(x)"
   ]
  },
  {
   "cell_type": "code",
   "execution_count": null,
   "metadata": {},
   "outputs": [],
   "source": [
    "value_grad_hess(f, torch.tensor([0.0, 0.0]).to(DEVICE))"
   ]
  },
  {
   "cell_type": "code",
   "execution_count": null,
   "metadata": {},
   "outputs": [],
   "source": [
    "torch.autograd.functional.hessian(lambda x: x[0]*x[1], torch.tensor([0.0, 0.0]).to(DEVICE))"
   ]
  },
  {
   "cell_type": "code",
   "execution_count": null,
   "metadata": {},
   "outputs": [],
   "source": [
    "f_3d = QuadraticFunction([1.0, 3.0, 3.0]).to(DEVICE)\n",
    "\n",
    "\n",
    "point = torch.tensor([0.0, 0.0, 1]).to(DEVICE)\n",
    "value, pt_grad, pt_hess = value_grad_hess(f_3d, point)\n",
    "\n",
    "M = ortho_group.rvs(len(point))\n",
    "#M = np.eye(len(point))\n",
    "#_M = ortho_group.rvs(len(point) - 1)\n",
    "#M[:-1, :-1] = _M\n",
    "coordinate_transformation = torch.tensor(M, dtype=torch.double).to(DEVICE)\n",
    "\n",
    "#coordinate_transformation = None\n",
    "\n",
    "print(\"eval point:\", point)\n",
    "print(\"eval value:\", value)\n",
    "print(\"eval grad:\", pt_grad)\n",
    "print()\n",
    "\n",
    "# isoresponse\n",
    "iso_shape_operator, iso_curvatures, iso_directions = curve_utils.local_response_curvature_isoresponse_surface(\n",
    "    pt_grad, pt_hess,\n",
    "    coordinate_transformation=coordinate_transformation\n",
    ")\n",
    "\n",
    "\n",
    "#graph_shape_operator, graph_curvatures, graph_directions = curve_utils.local_response_curvature_graph(pt_grad, pt_hess)\n",
    "\n",
    "#print(\"ISO SHAPE\", iso_shape_operator)\n",
    "#print(\"ISO dir\", iso_directions)\n",
    "print(\"ISO curv\", iso_curvatures)\n",
    "print(torch.prod(iso_curvatures))\n",
    "\n",
    "print()\n",
    "\n",
    "\n",
    "#print(\"graph SHAPE\", graph_shape_operator)\n",
    "#print(\"graph curv\", graph_curvatures)\n",
    "#print(\"graph dir\", graph_directions)"
   ]
  },
  {
   "cell_type": "markdown",
   "metadata": {},
   "source": [
    "and again with subspace"
   ]
  },
  {
   "cell_type": "code",
   "execution_count": null,
   "metadata": {},
   "outputs": [],
   "source": [
    "f_3d = QuadraticFunction([1.0, 2.0, 3.0]).to(DEVICE)\n",
    "\n",
    "projection_subspace_of_interest = torch.tensor([\n",
    "    [2, 2, 1.0],\n",
    "    #[2, 0, 0.0],\n",
    "]).to(DEVICE)\n",
    "\n",
    "\n",
    "point = torch.tensor([-3.0, 2.0, -1.0]).to(DEVICE)\n",
    "value, pt_grad, pt_hess = value_grad_hess(f_3d, point)\n",
    "\n",
    "print(\"eval point:\", point)\n",
    "print(\"eval value:\", value)\n",
    "print(\"eval grad:\", pt_grad)\n",
    "print()\n",
    "\n",
    "# isoresponse\n",
    "iso_shape_operator, iso_curvatures, iso_directions = curve_utils.local_response_curvature_isoresponse_surface(\n",
    "    pt_grad, pt_hess,\n",
    "    projection_subspace_of_interest=projection_subspace_of_interest,\n",
    ")\n",
    "graph_shape_operator, graph_curvatures, graph_directions = curve_utils.local_response_curvature_graph(pt_grad, pt_hess)\n",
    "\n",
    "print(\"ISO SHAPE\", iso_shape_operator)\n",
    "print(\"ISO curv\", iso_curvatures)\n",
    "print(\"ISO dir\", iso_directions)\n",
    "print()\n",
    "\n",
    "\n",
    "print(\"graph SHAPE\", graph_shape_operator)\n",
    "print(\"graph curv\", graph_curvatures)\n",
    "print(\"graph dir\", graph_directions)"
   ]
  },
  {
   "cell_type": "code",
   "execution_count": null,
   "metadata": {},
   "outputs": [],
   "source": []
  },
  {
   "cell_type": "code",
   "execution_count": null,
   "metadata": {},
   "outputs": [],
   "source": [
    "ortho_group.rvs(10)"
   ]
  },
  {
   "cell_type": "code",
   "execution_count": null,
   "metadata": {},
   "outputs": [],
   "source": []
  },
  {
   "cell_type": "code",
   "execution_count": null,
   "metadata": {},
   "outputs": [],
   "source": [
    "diag = np.random.randn(1000)\n",
    "diag[2] = 0\n",
    "hess = np.diag(diag)\n",
    "base_change = ortho_group.rvs(1000)\n",
    "hess = base_change.T @ hess @ base_change\n",
    "f_3d = QuadraticFunction(diag).to(DEVICE)\n",
    "\n",
    "point = torch.tensor(np.ones(1000)).to(DEVICE)\n",
    "value, pt_grad, pt_hess = value_grad_hess(f_3d, point)\n",
    "\n",
    "#print(\"eval point:\", point)\n",
    "#print(\"eval value:\", value)\n",
    "#print(\"eval grad:\", pt_grad)\n",
    "print()\n",
    "\n",
    "# isoresponse\n",
    "iso_shape_operator, iso_curvatures, iso_directions = curve_utils.local_response_curvature_isoresponse_surface(pt_grad, pt_hess)\n",
    "graph_shape_operator, graph_curvatures, graph_directions = curve_utils.local_response_curvature_graph(pt_grad, pt_hess)\n",
    "\n",
    "#print(\"ISO SHAPE\", iso_shape_operator)\n",
    "print(\"small curvatures\", iso_curvatures[torch.sort(torch.abs(iso_curvatures)).indices[:10]])\n",
    "#print(\"ISO curv\", iso_curvatures)\n",
    "#print(\"ISO dir\", iso_directions)\n",
    "print()\n",
    "\n",
    "\n",
    "#print(\"graph SHAPE\", graph_shape_operator)\n",
    "#print(\"graph curv\", graph_curvatures)\n",
    "#print(\"graph dir\", graph_directions)"
   ]
  },
  {
   "cell_type": "code",
   "execution_count": null,
   "metadata": {},
   "outputs": [],
   "source": [
    "f_3d = QuadraticFunction(np.ones(1000)).to(DEVICE)\n",
    "projection_subspace_of_interest = None\n",
    "\n",
    "point = torch.tensor([0.0 for i in range(999)]+[1.5,], dtype=torch.double).to(DEVICE)\n",
    "value, pt_grad, pt_hess = value_grad_hess(f_3d, point)\n",
    "\n",
    "# isoresponse\n",
    "iso_shape_operator, iso_curvatures, iso_directions = curve_utils.local_response_curvature_isoresponse_surface(\n",
    "    pt_grad, pt_hess,\n",
    "    projection_subspace_of_interest=projection_subspace_of_interest\n",
    ")\n",
    "graph_shape_operator, graph_curvatures, graph_directions = curve_utils.local_response_curvature_graph(pt_grad, pt_hess)\n",
    "\n",
    "print(\"ISO Gauss\", torch.prod(iso_curvatures))\n",
    "print(\"Gauss target\", 1/point[-1]**(999))\n",
    "print(\"ratio\", torch.prod(iso_curvatures)*point[-1]**(999))"
   ]
  },
  {
   "cell_type": "code",
   "execution_count": null,
   "metadata": {},
   "outputs": [],
   "source": []
  }
 ],
 "metadata": {
  "kernelspec": {
   "display_name": "Python 3",
   "language": "python",
   "name": "python3"
  },
  "language_info": {
   "codemirror_mode": {
    "name": "ipython",
    "version": 3
   },
   "file_extension": ".py",
   "mimetype": "text/x-python",
   "name": "python",
   "nbconvert_exporter": "python",
   "pygments_lexer": "ipython3",
   "version": "3.8.5"
  }
 },
 "nbformat": 4,
 "nbformat_minor": 4
}
