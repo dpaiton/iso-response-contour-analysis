{
 "cells": [
  {
   "cell_type": "code",
   "execution_count": null,
   "metadata": {},
   "outputs": [],
   "source": [
    "%load_ext autoreload\n",
    "%autoreload 2\n",
    "\n",
    "import os\n",
    "import sys\n",
    "\n",
    "import numpy as np\n",
    "import proplot as pplt\n",
    "\n",
    "import torch\n",
    "import torch.nn as nn\n",
    "\n",
    "DEVICE = 'cuda' if torch.cuda.is_available() else 'cpu'\n",
    "\n",
    "current_path = !pwd\n",
    "parent_path = os.path.dirname(current_path[0])\n",
    "if parent_path not in sys.path: sys.path.append(parent_path)\n",
    "\n",
    "import utils.model_handling as model_utils\n",
    "import utils.dataset_generation as iso_data\n",
    "import utils.histogram_analysis as hist_funcs\n",
    "import utils.principal_curvature as curve_utils\n",
    "import utils.plotting as plot_funcs"
   ]
  },
  {
   "cell_type": "code",
   "execution_count": null,
   "metadata": {},
   "outputs": [],
   "source": [
    "class QuadraticFunction(torch.nn.Module):\n",
    "    def __init__(self, diag=None):\n",
    "        super().__init__()\n",
    "        if diag is None:\n",
    "            diag = [1.0, 2.0]\n",
    "        \n",
    "        #self.hessian = torch.tensor([[1.0, 0.0, 0.0], [0.0, 2.0, 0.0], [0.0, 0.0, 3.0]]).to(DEVICE)\n",
    "        self.hessian = torch.diag(torch.tensor(diag)).to(DEVICE)\n",
    "    \n",
    "    def forward(self, x):\n",
    "        return torch.dot(x, torch.matmul(self.hessian, x))\n",
    "\n",
    "f = QuadraticFunction([1.0, 2.0]).to(DEVICE)"
   ]
  },
  {
   "cell_type": "code",
   "execution_count": null,
   "metadata": {},
   "outputs": [],
   "source": [
    "xs = torch.linspace(-3, 3, 50).to(DEVICE)\n",
    "ys = torch.linspace(-3, 3, 50).to(DEVICE)\n",
    "XS, YS = torch.meshgrid(xs, ys)\n",
    "XS_flat = XS.flatten()\n",
    "YS_flat = YS.flatten()\n",
    "data = torch.vstack((XS_flat, YS_flat))\n",
    "zs = torch.tensor([f(data[:, i]) for i in range(len(data.T))]).reshape(XS.shape)"
   ]
  },
  {
   "cell_type": "code",
   "execution_count": null,
   "metadata": {},
   "outputs": [],
   "source": [
    "fig, axs = pplt.subplots(nrows=1, ncols=1)\n",
    "axs.contourf(XS.cpu().numpy(), YS.cpu().numpy(), zs.cpu().numpy())"
   ]
  },
  {
   "cell_type": "code",
   "execution_count": null,
   "metadata": {},
   "outputs": [],
   "source": [
    "points = [\n",
    "    [0.5, 1.0],\n",
    "    [1.0, 2.0],\n",
    "    [0.0, -0.5],\n",
    "    [0.0, 0.5],\n",
    "    [0.0, 1.0],\n",
    "    [0.0, 2.0],\n",
    "]"
   ]
  },
  {
   "cell_type": "code",
   "execution_count": null,
   "metadata": {},
   "outputs": [],
   "source": [
    "f = QuadraticFunction([1.0, 2.0]).to(DEVICE)\n",
    "\n",
    "xs = torch.linspace(-3, 3, 50).to(DEVICE)\n",
    "ys = torch.linspace(-3, 3, 50).to(DEVICE)\n",
    "XS, YS = torch.meshgrid(xs, ys)\n",
    "XS_flat = XS.flatten()\n",
    "YS_flat = YS.flatten()\n",
    "data = torch.vstack((XS_flat, YS_flat))\n",
    "zs = torch.tensor([f(data[:, i]) for i in range(len(data.T))]).reshape(XS.shape)\n",
    "\n",
    "fig, axs = pplt.subplots(nrows=len(points), ncols=2)\n",
    "\n",
    "def plot_curvature(ax, curvatures, directions):\n",
    "    for curvature, direction in zip(curvatures.detach().cpu().numpy(), directions.T.detach().cpu().numpy()):\n",
    "        ax.arrow(np_point[0], np_point[1], direction[0], direction[1], width=0.05)\n",
    "        #ax.text(np_point[0] + 0.5 * direction[0], np_point[1] + 0.5 * direction[1], f'{curvature:.02f}')\n",
    "        ax.text(np_point[0] + 1.0 * direction[0], np_point[1] + 1.0 * direction[1], f'({direction[0]:.02f}, {direction[1]:.02f}): {curvature:.03f}')\n",
    "\n",
    "for point_index, np_point in enumerate(points):\n",
    "    \n",
    "    point = torch.tensor(np_point).to(DEVICE)\n",
    "    value = f(point)\n",
    "    pt_grad = 2*torch.matmul(f.hessian, point)\n",
    "    \n",
    "    for ax in axs[point_index, :]:\n",
    "        ax.contourf(XS.cpu().numpy(), YS.cpu().numpy(), zs.cpu().numpy())\n",
    "        ax.contour(XS.cpu().numpy(), YS.cpu().numpy(), zs.cpu().numpy(), levels=[value.detach().cpu().numpy()], color='black')\n",
    "        ax.scatter([np_point[0]], [np_point[1]])\n",
    "        ax.set_title(f'point: ({np_point[0]}, {np_point[1]})')\n",
    "\n",
    "    \n",
    "    # isoresponse\n",
    "    iso_shape_operator, iso_curvatures, iso_directions = curve_utils.local_response_curvature_isoresponse_surface(pt_grad, f.hessian)\n",
    "    graph_shape_operator, graph_curvatures, graph_directions = curve_utils.local_response_curvature_graph(pt_grad, f.hessian)\n",
    "    plot_curvature(axs[point_index, 0], iso_curvatures, iso_directions)\n",
    "    plot_curvature(axs[point_index, 1], graph_curvatures, graph_directions)"
   ]
  },
  {
   "cell_type": "code",
   "execution_count": null,
   "metadata": {},
   "outputs": [],
   "source": [
    "point = torch.tensor([0.0, 1.0]).to(DEVICE)\n",
    "value = f(point)\n",
    "pt_grad = 2*torch.matmul(f.hessian, point)\n",
    "\n",
    "# isoresponse\n",
    "iso_shape_operator, iso_curvatures, iso_directions = curve_utils.local_response_curvature_isoresponse_surface(pt_grad, f.hessian)\n",
    "graph_shape_operator, graph_curvatures, graph_directions = curve_utils.local_response_curvature_graph(pt_grad, f.hessian)\n",
    "\n",
    "print(\"ISO SHAPE\", iso_shape_operator)\n",
    "print(\"ISO curv\", iso_curvatures)\n",
    "print(\"ISO dir\", iso_directions)\n",
    "\n",
    "print(\"graph SHAPE\", graph_shape_operator)\n",
    "print(\"graph curv\", graph_curvatures)\n",
    "print(\"graph dir\", graph_directions)"
   ]
  },
  {
   "cell_type": "code",
   "execution_count": null,
   "metadata": {},
   "outputs": [],
   "source": [
    "f_3d = QuadraticFunction([1.0, 1.0, 1.0]).to(DEVICE)\n",
    "\n",
    "point = torch.tensor([0.0, 0.0, 2.0]).to(DEVICE)\n",
    "value = f_3d(point)\n",
    "pt_grad = 2*torch.matmul(f_3d.hessian, point)\n",
    "\n",
    "# isoresponse\n",
    "iso_shape_operator, iso_curvatures, iso_directions = curve_utils.local_response_curvature_isoresponse_surface(pt_grad, f_3d.hessian)\n",
    "graph_shape_operator, graph_curvatures, graph_directions = curve_utils.local_response_curvature_graph(pt_grad, f_3d.hessian)\n",
    "\n",
    "print(\"ISO SHAPE\", iso_shape_operator)\n",
    "print(\"ISO curv\", iso_curvatures)\n",
    "print(\"ISO dir\", iso_directions)\n",
    "print(\"ISO Gauss\", torch.prod(iso_curvatures))\n",
    "print(\"Gauss target\", torch.prod(iso_curvatures)/point[-1]**2)\n",
    "\n",
    "print(\"ratio\", 1/point[-1]**2)\n",
    "\n",
    "print(\"graph SHAPE\", graph_shape_operator)\n",
    "print(\"graph curv\", graph_curvatures)\n",
    "print(\"graph dir\", graph_directions)"
   ]
  },
  {
   "cell_type": "code",
   "execution_count": null,
   "metadata": {},
   "outputs": [],
   "source": []
  }
 ],
 "metadata": {
  "kernelspec": {
   "display_name": "Python 3",
   "language": "python",
   "name": "python3"
  },
  "language_info": {
   "codemirror_mode": {
    "name": "ipython",
    "version": 3
   },
   "file_extension": ".py",
   "mimetype": "text/x-python",
   "name": "python",
   "nbconvert_exporter": "python",
   "pygments_lexer": "ipython3",
   "version": "3.8.5"
  }
 },
 "nbformat": 4,
 "nbformat_minor": 4
}
