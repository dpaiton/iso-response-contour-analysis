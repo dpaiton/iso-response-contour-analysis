{
 "cells": [
  {
   "cell_type": "code",
   "execution_count": null,
   "metadata": {},
   "outputs": [],
   "source": [
    "%pylab inline\n",
    "%matplotlib inline\n",
    "\n",
    "import os\n",
    "import sys\n",
    "import numpy as np\n",
    "import pickle\n",
    "\n",
    "import matplotlib as mpl\n",
    "import matplotlib.pyplot as plt\n",
    "import matplotlib.gridspec as gridspec"
   ]
  },
  {
   "cell_type": "code",
   "execution_count": null,
   "metadata": {
    "scrolled": false
   },
   "outputs": [],
   "source": [
    "current_path = !pwd\n",
    "parent_path = os.path.dirname(current_path[0])\n",
    "if parent_path not in sys.path: sys.path.append(parent_path)\n",
    "work_path = \"/\".join(parent_path.split('/')[:-1])\n",
    "if work_path not in sys.path: sys.path.append(work_path)\n",
    "    \n",
    "from DeepSparseCoding.data.dataset import Dataset\n",
    "from DeepSparseCoding.analysis import analysis_picker as ap\n",
    "from DeepSparseCoding.utils import data_processing as dp\n",
    "import utils.model_handling as model_funcs\n",
    "import utils.dataset_generation as iso_data\n",
    "import utils.histogram_analysis as hist_funcs\n",
    "import utils.plotting as pf"
   ]
  },
  {
   "cell_type": "code",
   "execution_count": null,
   "metadata": {},
   "outputs": [],
   "source": [
    "text_width = 416.83269 #pt = 14.65cm\n",
    "fontsize = 12\n",
    "dpi = 800\n",
    "font_settings = {\n",
    "        \"text.usetex\": True,\n",
    "        \"font.family\": \"serif\",\n",
    "        \"axes.labelsize\": fontsize,\n",
    "        \"axes.titlesize\": fontsize,\n",
    "        \"figure.titlesize\": fontsize,\n",
    "        \"font.size\": fontsize,\n",
    "        \"legend.fontsize\": fontsize,\n",
    "        \"xtick.labelsize\": fontsize-2,\n",
    "        \"ytick.labelsize\": fontsize-2,\n",
    "}\n",
    "mpl.rcParams.update(font_settings)\n",
    "mpl.pyplot.rc('text', usetex=True)\n",
    "\n",
    "color_vals = dict(zip([\"blk\", \"lt_green\", \"md_green\", \"dk_green\", \"lt_blue\", \"md_blue\", \"dk_blue\", \"lt_red\", \"md_red\", \"dk_red\"],\n",
    "  [\"#000000\", \"#A9DFBF\", \"#196F3D\", \"#27AE60\", \"#AED6F1\", \"#3498DB\", \"#21618C\", \"#F5B7B1\", \"#E74C3C\", \"#943126\"]))"
   ]
  },
  {
   "cell_type": "code",
   "execution_count": null,
   "metadata": {},
   "outputs": [],
   "source": [
    "def get_dsc_activations_cell(analyzer, images, neuron, batch_size=10):\n",
    "    '''\n",
    "    Returns the activations from a model for given input images\n",
    "    Parameters:\n",
    "        analyzer [DSC analyzer object] an object from the DeepSparseCoding library\n",
    "        images: an array with NumImages x W x H\n",
    "        neuron: [int or vector of ints] that points to the neuron index\n",
    "    Output:\n",
    "        activations [np.ndarray] vector of length len(neuron)\n",
    "    '''\n",
    "    images = dp.reshape_data(images, flatten=analyzer.model.params.vectorize_data)[0]\n",
    "    activations = analyzer.compute_activations(images, batch_size=None)[:, neuron]\n",
    "    return activations\n",
    "\n",
    "def load_analysis(params):\n",
    "    params.model_dir = (work_path+\"/Projects/\"+params.model_name)\n",
    "    analyzer = ap.get_analyzer(params.model_type)\n",
    "    analyzer.setup(params)\n",
    "    analyzer.model.setup(analyzer.model_params)\n",
    "    analyzer.load_analysis(save_info=params.save_info)\n",
    "    return params, analyzer"
   ]
  },
  {
   "cell_type": "markdown",
   "metadata": {},
   "source": [
    "## Pre-trained LCA model"
   ]
  },
  {
   "cell_type": "code",
   "execution_count": null,
   "metadata": {},
   "outputs": [],
   "source": [
    "class lca_1024_vh_params(object):\n",
    "  def __init__(self):\n",
    "    self.model_type = \"lca\"\n",
    "    self.model_name = \"lca_1024_vh\"\n",
    "    self.display_name = \"Sparse Coding\"\n",
    "    self.version = \"0.0\"\n",
    "    self.save_info = \"analysis_train_carlini_targeted\"\n",
    "    self.overwrite_analysis_log = False\n",
    "    self.use_group_activations = False"
   ]
  },
  {
   "cell_type": "code",
   "execution_count": null,
   "metadata": {},
   "outputs": [],
   "source": [
    "params, analyzer = load_analysis(lca_1024_vh_params())\n",
    "neuron_weights = [analyzer.bf_stats[\"basis_functions\"][idx]\n",
    "    for idx in range(len(analyzer.bf_stats[\"basis_functions\"]))]"
   ]
  },
  {
   "cell_type": "code",
   "execution_count": null,
   "metadata": {},
   "outputs": [],
   "source": [
    "cont_analysis = dict()\n",
    "\n",
    "#cont_analysis[\"target_neuron_ids\"] = get_rand_target_neuron_ids(3, len(meis[\"images\"]))\n",
    "cont_analysis[\"target_neuron_ids\"] = [992, 381, 62]# [1, 2, 3]\n",
    "cont_analysis[\"num_comparisons\"] = 3\n",
    "cont_analysis[\"min_angle\"] = 5\n",
    "cont_analysis[\"x_range\"] = (-2.0, 2.0)\n",
    "cont_analysis[\"y_range\"] = (-2.0, 2.0)\n",
    "cont_analysis[\"num_images\"] = int(30**2)\n",
    "cont_analysis[\"image_scale\"] = 33 # norm of training data\n",
    "\n",
    "iso_vectors = iso_data.compute_rand_vectors(\n",
    "    [neuron_weights[idx] for idx in cont_analysis[\"target_neuron_ids\"]],\n",
    "    cont_analysis[\"num_comparisons\"])\n",
    "cont_analysis[\"rand_target_vectors\"] = iso_vectors[0]\n",
    "cont_analysis[\"rand_orth_vectors\"] = iso_vectors[1]\n",
    "\n",
    "iso_vectors = iso_data.compute_comp_vectors(\n",
    "    neuron_weights,\n",
    "    cont_analysis[\"target_neuron_ids\"],\n",
    "    cont_analysis[\"min_angle\"],\n",
    "    cont_analysis[\"num_comparisons\"])\n",
    "cont_analysis[\"comparison_neuron_ids\"] = iso_vectors[0]\n",
    "cont_analysis[\"comparison_target_vectors\"] = iso_vectors[1]\n",
    "cont_analysis[\"comparison_vectors\"] = iso_vectors[2]\n",
    "\n",
    "cont_analysis[\"target_vectors\"] = cont_analysis[\"comparison_target_vectors\"]\n",
    "\n",
    "cont_analysis[\"contour_dataset\"], datapoints = iso_data.get_contour_dataset(\n",
    "    cont_analysis[\"target_vectors\"],\n",
    "    cont_analysis[\"comparison_vectors\"],\n",
    "    cont_analysis[\"x_range\"],\n",
    "    cont_analysis[\"y_range\"],\n",
    "    cont_analysis[\"num_images\"],\n",
    "    cont_analysis[\"image_scale\"])\n",
    "\n",
    "cont_analysis[\"activations\"] = model_funcs.get_normalized_activations(\n",
    "    analyzer,\n",
    "    cont_analysis[\"target_neuron_ids\"],\n",
    "    datapoints,\n",
    "    get_dsc_activations_cell)"
   ]
  },
  {
   "cell_type": "code",
   "execution_count": null,
   "metadata": {
    "scrolled": false
   },
   "outputs": [],
   "source": [
    "width_fraction = 1.0\n",
    "show_contours = True\n",
    "num_levels = 10\n",
    "contour_fig, contour_handles = pf.plot_group_iso_contours(cont_analysis, num_levels, show_contours, text_width, width_fraction, dpi)"
   ]
  },
  {
   "cell_type": "markdown",
   "metadata": {},
   "source": [
    "## Pre-trained Subspace-LCA model"
   ]
  },
  {
   "cell_type": "code",
   "execution_count": null,
   "metadata": {},
   "outputs": [],
   "source": [
    "class lca_subspace_vh_params(object):\n",
    "  def __init__(self):\n",
    "    self.model_type = \"lca_subspace\"\n",
    "    self.model_name = \"lca_subspace_vh\"\n",
    "    self.display_name = \"Subspace Sparse Coding\"\n",
    "    self.version = \"5x_4_1.0_0.2\"\n",
    "    self.save_info = \"analysis_train\"\n",
    "    self.overwrite_analysis_log = False\n",
    "    self.use_group_activations = False"
   ]
  },
  {
   "cell_type": "code",
   "execution_count": null,
   "metadata": {},
   "outputs": [],
   "source": [
    "params, analyzer = load_analysis(lca_subspace_vh_params())\n",
    "neuron_weights = [analyzer.bf_stats[\"basis_functions\"][idx]\n",
    "    for idx in range(len(analyzer.bf_stats[\"basis_functions\"]))]"
   ]
  },
  {
   "cell_type": "code",
   "execution_count": null,
   "metadata": {},
   "outputs": [],
   "source": [
    "angle_matrix = iso_data.get_vector_angles(neuron_weights)[1]\n",
    "min_angle = 10\n",
    "num_below_min = np.count_nonzero(angle_matrix<min_angle) # many angles are -1 or 0\n",
    "sorted_angle_indices = np.stack(np.unravel_index(np.argsort(angle_matrix.ravel()),\n",
    "    angle_matrix.shape), axis=1)[num_below_min:, :]\n",
    "#all_target_ids = sorted_angle_indices[:,0]\n",
    "#target_neuron_ids = sorted_angle_indices[0:3, 0]\n"
   ]
  },
  {
   "cell_type": "code",
   "execution_count": null,
   "metadata": {},
   "outputs": [],
   "source": [
    "num_target_neurons = 3\n",
    "num_within_group_neurons = 1\n",
    "num_outside_group_neurons = 2\n",
    "\n",
    "unique_target_indices = list(set(sorted_angle_indices[:,0]))\n",
    "selected_target_indices = [np.argwhere(sorted_angle_indices == unique_target_indices[idx])[0,0].item()\n",
    "    for idx in range(num_target_neurons)]"
   ]
  },
  {
   "cell_type": "code",
   "execution_count": null,
   "metadata": {},
   "outputs": [],
   "source": [
    "target_groups = analyzer.model.module.group_assignments[selected_target_indices[idx]\n",
    "    for idx in range(num_target_neurons)]\n",
    "\n",
    "within_group_ids = []\n",
    "for group_index, group_number in enumerate(target_groups):\n",
    "    sub_list = []\n",
    "    for comp_neuron_idx in analyzer.model.module.group_ids[group_idx]:\n",
    "        if comp_neuron_idx != selected_target_indices[group_index]:\n",
    "            sub_list.append(comp_neuron_idx)\n",
    "    within_group_ids.append(sub_list[:num_within_group_neurons])\n",
    "    \n",
    "outside_group_ids = []\n",
    "for group_index, group_number in enumerate(target_groups):\n",
    "    candidate_groups = [candidate_group_number\n",
    "        for candidate_group_number in range(analyzer.model.module.num_groups)\n",
    "        if candidate_group_number != group_number]\n",
    "    candidate_comp_ids = []\n",
    "    for candidate_group_number in candidate_groups:\n",
    "        for neuron_idx in analyzer.model.module.group_ids[candidate_group_number]:\n",
    "            candidate_comp_ids.append(neuron_idx)\n",
    "    sub_list = []\n",
    "    for candidate_group_number in candidate_groups:\n",
    "        for comp_neuron_idx in analyzer.model.module.group_ids[candidate_group_number]:\n",
    "            if angle_matrix[selected_target_indices[group_index], comp_neuron_idx] > cont_analysis[\"min_angle\"]:\n",
    "                if angle_matrix[selected_target_indices[group_index], comp_neuron_idx] < max_angle"
   ]
  },
  {
   "cell_type": "code",
   "execution_count": null,
   "metadata": {},
   "outputs": [],
   "source": [
    "cont_analysis = dict()\n",
    "\n",
    "cont_analysis[\"target_neuron_ids\"] = [992, 381, 62]\n",
    "cont_analysis[\"comparison_neuron_ids\"] = [[993, 982, 950], [382, 991, 950], [64, 61, 200]]\n",
    "cont_analysis[\"num_comparisons\"] = 3\n",
    "cont_analysis[\"min_angle\"] = 5\n",
    "cont_analysis[\"x_range\"] = (-2.0, 2.0)\n",
    "cont_analysis[\"y_range\"] = (-2.0, 2.0)\n",
    "cont_analysis[\"num_images\"] = int(30**2)\n",
    "cont_analysis[\"image_scale\"] = 33 # norm of training data\n",
    "\n",
    "\n",
    "iso_vectors = iso_data.compute_selected_vectors(\n",
    "    neuron_weights,\n",
    "    cont_analysis[\"target_neuron_ids\"],\n",
    "    cont_analysis[\"comparison_neuron_ids\"])\n",
    "cont_analysis[\"comparison_target_vectors\"] = iso_vectors[1]\n",
    "cont_analysis[\"comparison_vectors\"] = iso_vectors[2]"
   ]
  }
 ],
 "metadata": {
  "kernelspec": {
   "display_name": "Python 3",
   "language": "python",
   "name": "python3"
  },
  "language_info": {
   "codemirror_mode": {
    "name": "ipython",
    "version": 3
   },
   "file_extension": ".py",
   "mimetype": "text/x-python",
   "name": "python",
   "nbconvert_exporter": "python",
   "pygments_lexer": "ipython3",
   "version": "3.6.7"
  },
  "varInspector": {
   "cols": {
    "lenName": 16,
    "lenType": 16,
    "lenVar": 40
   },
   "kernels_config": {
    "python": {
     "delete_cmd_postfix": "",
     "delete_cmd_prefix": "del ",
     "library": "var_list.py",
     "varRefreshCmd": "print(var_dic_list())"
    },
    "r": {
     "delete_cmd_postfix": ") ",
     "delete_cmd_prefix": "rm(",
     "library": "var_list.r",
     "varRefreshCmd": "cat(var_dic_list()) "
    }
   },
   "types_to_exclude": [
    "module",
    "function",
    "builtin_function_or_method",
    "instance",
    "_Feature"
   ],
   "window_display": false
  }
 },
 "nbformat": 4,
 "nbformat_minor": 2
}
